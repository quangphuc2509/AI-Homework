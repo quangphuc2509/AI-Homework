{
  "cells": [
    {
      "cell_type": "markdown",
      "metadata": {
        "id": "view-in-github",
        "colab_type": "text"
      },
      "source": [
        "<a href=\"https://colab.research.google.com/github/quangphuc2509/AI-Homework/blob/main/AIhomework2.ipynb\" target=\"_parent\"><img src=\"https://colab.research.google.com/assets/colab-badge.svg\" alt=\"Open In Colab\"/></a>"
      ]
    },
    {
      "cell_type": "code",
      "execution_count": 5,
      "metadata": {
        "id": "hzjhxLqTEet9",
        "colab": {
          "base_uri": "https://localhost:8080/"
        },
        "outputId": "82ab0853-dff3-4bdc-db89-8356a2da087c"
      },
      "outputs": [
        {
          "output_type": "stream",
          "name": "stdout",
          "text": [
            "Số lần diễn ra Olympics mùa đông:  20\n",
            "\n",
            "Các năm diễn ra Oympics mùa đông: \n",
            " [1924 1928 1932 1936 1948 1952 1956 1960 1964 1968 1972 1976 1980 1984\n",
            " 1988 1992 1994 1998 2002 2006]\n",
            "\n",
            "Các thành phố đăng cai Olympics mùa đông: \n",
            " ['Chamonix' 'St. Moritz' 'Lake Placid' 'Garmisch-Partenkirchen' 'Oslo'\n",
            " \"Cortina d'Ampezzo\" 'Squaw Valley' 'Innsbruck' 'Grenoble' 'Sapporo'\n",
            " 'Sarajevo' 'Calgary' 'Albertville' 'Lillehammer' 'Nagano'\n",
            " 'Salt Lake City' 'Turin']\n",
            "\n",
            "Quốc gia chọn để báo cáo thống kê: Mỹ - United State American\n",
            "Số năm Mỹ tham dự Olympics mùa đông:  20\n",
            "Các năm Mỹ tham dự Olympics mùa đông:  [1924 1928 1932 1936 1948 1952 1956 1960 1964 1968 1972 1976 1980 1984\n",
            " 1988 1992 1994 1998 2002 2006]\n",
            "\n",
            "Tổng số huy chương vàng của Mỹ qua các năm:  78\n",
            "Tổng số huy chương bạc của Mỹ qua các năm:  80\n",
            "Tổng số huy chương đồng của Mỹ qua các năm:  58\n",
            "\n",
            "Từ năm 2004 đến năm 2008, Mỹ đã giành tổng cộng:\n",
            "19  huy chương vàng\n",
            "22 huy chương bạc\n",
            "18 huy chương đồng\n",
            "\n",
            "Trong khoảng thời gian đó, Mỹ đã tham gia những môn:  ['Bobsleigh' 'Ice Hockey' 'Luge' 'Skating' 'Skiing' 'Curling']\n",
            "Trong đó:\n",
            "                   quantity\n",
            "Sport      Medal           \n",
            "Bobsleigh  Bronze         1\n",
            "           Gold           3\n",
            "           Silver         3\n",
            "Curling    Bronze         1\n",
            "Ice Hockey Bronze         1\n",
            "           Silver         2\n",
            "Luge       Bronze         1\n",
            "           Silver         1\n",
            "Skating    Bronze        10\n",
            "           Gold           9\n",
            "           Silver         7\n",
            "Skiing     Bronze         4\n",
            "           Gold           7\n",
            "           Silver         9\n"
          ]
        }
      ],
      "source": [
        "import pandas as pd \n",
        "import numpy  as np\n",
        "\n",
        "# Tạo đường dẫn của dữ liệu\n",
        "url = 'http://winterolympicsmedals.com/medals.csv'\n",
        "# Đọc dữ liệu vào một biến\n",
        "data = pd.read_csv (url)\n",
        "\n",
        "# Đếm số lần diễn ra Olympic mùa đông\n",
        "sonam = data['Year'].nunique()\n",
        "\n",
        "#List các năm tổ chức Olympic\n",
        "cacnam = data['Year'].unique()    \n",
        "\n",
        "# List các thành phố tổ chức Olympic\n",
        "city = data['City'].unique() \n",
        "\n",
        "# Tạo một danh sách mới chỉ có nước Mỹ \n",
        "usa = data.loc[data.NOC == 'USA']\n",
        "\n",
        "# Đếm số lần tham dự của nước Mỹ\n",
        "usathamgia = usa['Year'].nunique()\n",
        "\n",
        "# List các năm nước Mỹ tham dự Olympic\n",
        "listusathamgia = usa['Year'].unique()\n",
        "\n",
        "# Đếm tổng số huy chương vàng nước Mỹ dành được\n",
        "gold = usa.loc[usa.Medal == 'Gold'].shape[0]\n",
        " \n",
        "# Đếm tổng số huy chương bạc nước Mỹ dành được\n",
        "silver = usa.loc[usa.Medal == 'Silver'].shape[0]\n",
        "\n",
        "# Đếm tổng số huy chương đồng nước Mỹ dành được\n",
        "bronze = usa.loc[usa.Medal == 'Bronze'].shape[0]\n",
        "\n",
        "# Tạo danh sách mới với các năm tham dự của các nước là từ năm 2002-2006\n",
        "recently = data.tail (486)                #the last row = 2312 - 1827 + 1 \n",
        "\n",
        "#Tạo danh sách mới với các năm tham dự của nước Mỹ là từ năm 2002-2006\n",
        "usa0206 = recently.loc[recently.NOC == 'USA']\n",
        "\n",
        "# Đếm tổng số huy chương vàng nước Mỹ dành được từ năm 2002-2006\n",
        "gold0206 = usa0206.loc[usa0206.Medal == 'Gold'].shape[0]\n",
        "\n",
        "# Đếm tổng số huy chương bạc nước Mỹ dành được từ năm 2002-2006\n",
        "silver0206 = usa0206.loc[usa0206.Medal == 'Silver'].shape[0]\n",
        "\n",
        "# Đếm tổng số huy chương đồng nước Mỹ dành được từ năm 2002-2006\n",
        "bronze0206 = usa0206.loc[usa0206.Medal == 'Bronze'].shape[0]\n",
        "\n",
        "# Các môn thể thao Mỹ tham dự từ năm 2002 - 2006\n",
        "sport = usa0206['Sport'].unique()\n",
        "\n",
        "# Tạo danh sách mới gồm các môn Mỹ tham dự từ năm 2002 -2006\n",
        "datasport = usa0206.groupby(['Sport','Medal']).count()\n",
        "datasportchange = datasport.drop(labels=['Year','City','Discipline','NOC','Event'],axis=1)\n",
        "datasportchange= datasportchange.rename(columns= {'Event gender':'quantity'})\n",
        "\n",
        "# hiển thị\n",
        "\n",
        "print ('Số lần diễn ra Olympics mùa đông: ', sonam)\n",
        "print ('\\nCác năm diễn ra Oympics mùa đông: \\n', cacnam)\n",
        "print ('\\nCác thành phố đăng cai Olympics mùa đông: \\n', city )\n",
        "print ('\\nQuốc gia chọn để báo cáo thống kê: Mỹ - United State American')\n",
        "print ('Số năm Mỹ tham dự Olympics mùa đông: ', usathamgia)\n",
        "print ('Các năm Mỹ tham dự Olympics mùa đông: ', listusathamgia)\n",
        "print ('\\nTổng số huy chương vàng của Mỹ qua các năm: ', gold)\n",
        "print ('Tổng số huy chương bạc của Mỹ qua các năm: ', silver)\n",
        "print ('Tổng số huy chương đồng của Mỹ qua các năm: ', bronze )\n",
        "print ('\\nTừ năm 2004 đến năm 2008, Mỹ đã giành tổng cộng:' )\n",
        "print (gold0206 , ' huy chương vàng' )\n",
        "print (silver0206 , 'huy chương bạc' )\n",
        "print (bronze0206 , 'huy chương đồng' )\n",
        "print ('\\nTrong khoảng thời gian đó, Mỹ đã tham gia những môn: ' , sport )\n",
        "print ('Trong đó:')\n",
        "print(datasportchange)"
      ]
    },
    {
      "cell_type": "code",
      "source": [],
      "metadata": {
        "id": "yULwAQO587EK"
      },
      "execution_count": null,
      "outputs": []
    }
  ],
  "metadata": {
    "colab": {
      "provenance": [],
      "authorship_tag": "ABX9TyMsDaYq2HZwTq9c5gGVqSCV",
      "include_colab_link": true
    },
    "kernelspec": {
      "display_name": "Python 3",
      "name": "python3"
    },
    "language_info": {
      "name": "python"
    }
  },
  "nbformat": 4,
  "nbformat_minor": 0
}