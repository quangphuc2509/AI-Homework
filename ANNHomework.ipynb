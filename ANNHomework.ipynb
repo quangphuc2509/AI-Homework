{
  "nbformat": 4,
  "nbformat_minor": 0,
  "metadata": {
    "colab": {
      "provenance": [],
      "authorship_tag": "ABX9TyPb2uTHmtyJPEXZ/O7YcqSY",
      "include_colab_link": true
    },
    "kernelspec": {
      "name": "python3",
      "display_name": "Python 3"
    },
    "language_info": {
      "name": "python"
    }
  },
  "cells": [
    {
      "cell_type": "markdown",
      "metadata": {
        "id": "view-in-github",
        "colab_type": "text"
      },
      "source": [
        "<a href=\"https://colab.research.google.com/github/quangphuc2509/AI-Homework/blob/main/ANNHomework.ipynb\" target=\"_parent\"><img src=\"https://colab.research.google.com/assets/colab-badge.svg\" alt=\"Open In Colab\"/></a>"
      ]
    },
    {
      "cell_type": "code",
      "execution_count": 1,
      "metadata": {
        "id": "u1tIJtO0T3Ah"
      },
      "outputs": [],
      "source": [
        "from sklearn.linear_model import Perceptron\n",
        "from sklearn import datasets\n",
        "from sklearn.model_selection import train_test_split\n",
        "#Không bao giờ được lấy dữ liệu đã train để test, sẽ xảy ra overfitting, hàm train_test_split để chia dữ liệu để train và để test\n",
        "from sklearn.metrics import accuracy_score\n",
        "from sklearn.preprocessing import StandardScaler #Các dữ liệu để train, nó không cùng đơn vị, nên phải scale về 1 đơn vị thống nhất"
      ]
    },
    {
      "cell_type": "code",
      "source": [
        "import pandas as pd\n",
        "url = 'data_crab.csv'\n",
        "dataframe = pd.read_csv(url)"
      ],
      "metadata": {
        "id": "5aLa27v4dGW9"
      },
      "execution_count": 3,
      "outputs": []
    },
    {
      "cell_type": "code",
      "source": [
        "data_replace = dataframe.replace(['B', 'O', 'M', 'F'], [0,1,1,0])\n",
        "data = data_replace.drop('index', axis = 'columns')\n",
        "x = data.drop(['sp'], axis = 'columns')\n",
        "y = data.drop(['FL', 'RW', 'CL', 'CW', 'BD', 'sex'], axis = 'columns')\n",
        "print(x[:5])\n",
        "print(y[:5])"
      ],
      "metadata": {
        "colab": {
          "base_uri": "https://localhost:8080/"
        },
        "id": "I7H-HuvddSkH",
        "outputId": "eab20296-997e-4d60-efaf-24e6ad626ef4"
      },
      "execution_count": 14,
      "outputs": [
        {
          "output_type": "stream",
          "name": "stdout",
          "text": [
            "   sex   FL   RW    CL    CW   BD\n",
            "0    1  8.1  6.7  16.1  19.0  7.0\n",
            "1    1  8.8  7.7  18.1  20.8  7.4\n",
            "2    1  9.2  7.8  19.0  22.4  7.7\n",
            "3    1  9.6  7.9  20.1  23.1  8.2\n",
            "4    1  9.8  8.0  20.3  23.0  8.2\n",
            "   sp\n",
            "0   0\n",
            "1   0\n",
            "2   0\n",
            "3   0\n",
            "4   0\n"
          ]
        }
      ]
    },
    {
      "cell_type": "code",
      "source": [
        "#Train dữ liệu\n",
        "x_train, x_test, y_train, y_test = train_test_split(x,y, test_size = 0.3)\n",
        "sc = StandardScaler()\n",
        "sc.fit(x_train) #Học tỉ lệ\n",
        "x_train_std = sc.transform(x_train) \n",
        "x_test_std = sc.transform(x_test)\n",
        "print(x_train_std[:5])\n",
        "print(x_train[:5])\n",
        "print(y[:5])"
      ],
      "metadata": {
        "colab": {
          "base_uri": "https://localhost:8080/"
        },
        "id": "zvvfzH63dkFg",
        "outputId": "b04bf606-1a1f-46aa-828e-f39d7dbe3cb6"
      },
      "execution_count": 15,
      "outputs": [
        {
          "output_type": "stream",
          "name": "stdout",
          "text": [
            "[[ 0.97182532  1.73647146  0.84968719  1.60248632  1.52902971  1.77397341]\n",
            " [ 0.97182532  0.06261754 -0.16171287 -0.03233717 -0.25568815  0.07526945]\n",
            " [ 0.97182532 -0.24945692 -0.51181289 -0.00439147  0.02476751 -0.06868851]\n",
            " [ 0.97182532 -1.24242111 -1.05641292 -1.13619234 -1.16079506 -1.19156062]\n",
            " [-1.02899151 -1.27079152 -1.09531292 -1.3178394  -1.33926685 -1.6522261 ]]\n",
            "     sex    FL    RW    CL    CW    BD\n",
            "145    1  21.6  14.8  43.4  48.2  20.1\n",
            "122    1  15.7  12.2  31.7  34.2  14.2\n",
            "21     1  14.6  11.3  31.9  36.4  13.7\n",
            "6      1  11.1   9.9  23.8  27.1   9.8\n",
            "60     0  11.0   9.8  22.5  25.7   8.2\n",
            "   sp\n",
            "0   0\n",
            "1   0\n",
            "2   0\n",
            "3   0\n",
            "4   0\n"
          ]
        }
      ]
    },
    {
      "cell_type": "code",
      "source": [
        "model = Perceptron(max_iter = 3, eta0 = 0.1, random_state = 0)\n",
        "model.fit(x_train_std, y_train)\n",
        "y_pre = model.predict(x_test_std)\n",
        "print(y_pre)\n",
        "print(y_test)\n",
        "print(\"Model Accuracy:\", accuracy_score(y_test, y_pre)*100)"
      ],
      "metadata": {
        "colab": {
          "base_uri": "https://localhost:8080/"
        },
        "id": "-fPHpDfLdtX1",
        "outputId": "40fdfd5d-2269-44d1-e1c0-529646b0faec"
      },
      "execution_count": 16,
      "outputs": [
        {
          "output_type": "stream",
          "name": "stdout",
          "text": [
            "[1 1 1 0 0 1 1 1 0 1 0 1 1 1 1 0 0 1 0 1 0 1 0 1 0 0 0 1 1 0 1 0 1 0 1 1 0\n",
            " 1 0 1 0 0 0 1 0 1 1 0 0 1 1 1 1 0 0 0 1 0 0 1]\n",
            "     sp\n",
            "169   1\n",
            "188   1\n",
            "182   1\n",
            "46    0\n",
            "87    0\n",
            "102   1\n",
            "185   1\n",
            "139   1\n",
            "3     0\n",
            "162   1\n",
            "61    0\n",
            "171   1\n",
            "153   1\n",
            "101   1\n",
            "193   1\n",
            "22    0\n",
            "41    0\n",
            "146   1\n",
            "15    0\n",
            "174   1\n",
            "70    0\n",
            "135   1\n",
            "89    0\n",
            "164   1\n",
            "84    0\n",
            "65    0\n",
            "2     0\n",
            "126   1\n",
            "119   1\n",
            "10    0\n",
            "177   1\n",
            "57    0\n",
            "161   1\n",
            "4     0\n",
            "168   1\n",
            "187   1\n",
            "37    0\n",
            "110   1\n",
            "30    0\n",
            "103   1\n",
            "49    0\n",
            "48    0\n",
            "19    0\n",
            "166   1\n",
            "88    0\n",
            "149   1\n",
            "175   1\n",
            "62    0\n",
            "17    0\n",
            "189   1\n",
            "121   1\n",
            "160   1\n",
            "111   1\n",
            "94    0\n",
            "78    0\n",
            "99    0\n",
            "167   1\n",
            "33    0\n",
            "156   1\n",
            "140   1\n",
            "Model Accuracy: 98.33333333333333\n"
          ]
        },
        {
          "output_type": "stream",
          "name": "stderr",
          "text": [
            "/usr/local/lib/python3.9/dist-packages/sklearn/utils/validation.py:1143: DataConversionWarning: A column-vector y was passed when a 1d array was expected. Please change the shape of y to (n_samples, ), for example using ravel().\n",
            "  y = column_or_1d(y, warn=True)\n",
            "/usr/local/lib/python3.9/dist-packages/sklearn/linear_model/_stochastic_gradient.py:702: ConvergenceWarning: Maximum number of iteration reached before convergence. Consider increasing max_iter to improve the fit.\n",
            "  warnings.warn(\n"
          ]
        }
      ]
    },
    {
      "cell_type": "code",
      "source": [],
      "metadata": {
        "id": "LBinUNf4dyQu"
      },
      "execution_count": null,
      "outputs": []
    }
  ]
}