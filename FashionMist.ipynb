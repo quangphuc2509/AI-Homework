{
  "nbformat": 4,
  "nbformat_minor": 0,
  "metadata": {
    "colab": {
      "provenance": [],
      "authorship_tag": "ABX9TyPeX5fUA4w5p3MX88j40H3W",
      "include_colab_link": true
    },
    "kernelspec": {
      "name": "python3",
      "display_name": "Python 3"
    },
    "language_info": {
      "name": "python"
    }
  },
  "cells": [
    {
      "cell_type": "markdown",
      "metadata": {
        "id": "view-in-github",
        "colab_type": "text"
      },
      "source": [
        "<a href=\"https://colab.research.google.com/github/quangphuc2509/AI-Homework/blob/main/FashionMist.ipynb\" target=\"_parent\"><img src=\"https://colab.research.google.com/assets/colab-badge.svg\" alt=\"Open In Colab\"/></a>"
      ]
    },
    {
      "cell_type": "code",
      "execution_count": 18,
      "metadata": {
        "colab": {
          "base_uri": "https://localhost:8080/"
        },
        "id": "BBGE4jtQLJUq",
        "outputId": "83fc9984-aee4-4ff5-ed7c-27e6dcc397a1"
      },
      "outputs": [
        {
          "output_type": "stream",
          "name": "stdout",
          "text": [
            "(10000, 28, 28)\n",
            "(10000,)\n",
            "(60000, 28, 28)\n",
            "(60000,)\n"
          ]
        }
      ],
      "source": [
        "from keras.datasets import fashion_mnist\n",
        "(x_train,y_train),(x_test,y_test)=fashion_mnist.load_data()\n",
        "print(x_test.shape)\n",
        "print(y_test.shape)\n",
        "print(x_train.shape)\n",
        "print(y_train.shape)"
      ]
    },
    {
      "cell_type": "code",
      "source": [
        "class_name=['T-shirt/Top','Trouser','Pullover','Dress','Coat','Sandel','Shirt','Sneaker','Bag','Angleboot']"
      ],
      "metadata": {
        "id": "oIB5S0g9MG1N"
      },
      "execution_count": 2,
      "outputs": []
    },
    {
      "cell_type": "code",
      "source": [
        "import matplotlib.pyplot as plt\n",
        "a=20\n",
        "plt.imshow(x_train[a]);plt.show();print(class_name[y_train[a]])\n",
        "plt.imshow(x_test[a]);plt.show();print(class_name[y_test[a]])"
      ],
      "metadata": {
        "colab": {
          "base_uri": "https://localhost:8080/",
          "height": 878
        },
        "id": "5Rlb7GYeMTjN",
        "outputId": "d008bf11-2671-4625-c9d5-7524d135d3bc"
      },
      "execution_count": 19,
      "outputs": [
        {
          "output_type": "display_data",
          "data": {
            "text/plain": [
              "<Figure size 640x480 with 1 Axes>"
            ],
            "image/png": "[encoded data removed]"
          },
          "metadata": {}
        },
        {
          "output_type": "stream",
          "name": "stdout",
          "text": [
            "Dress\n"
          ]
        },
        {
          "output_type": "display_data",
          "data": {
            "text/plain": [
              "<Figure size 640x480 with 1 Axes>"
            ],
            "image/png": "[encoded data removed]"
          },
          "metadata": {}
        },
        {
          "output_type": "stream",
          "name": "stdout",
          "text": [
            "Pullover\n"
          ]
        }
      ]
    },
    {
      "cell_type": "code",
      "source": [
        "from keras import models\n",
        "from keras import layers\n",
        "model=models.Sequential()\n",
        "\n",
        "model.add(layers.Dense(512,activation='relu',input_shape=(28*28,)))\n",
        "model.add(layers.Dense(512, activation = 'relu',))\n",
        "model.add(layers.Dense(10,activation='softmax',))\n",
        "model.summary()"
      ],
      "metadata": {
        "colab": {
          "base_uri": "https://localhost:8080/"
        },
        "id": "6GV9lySZMXLl",
        "outputId": "2a48a0b5-8352-4df1-a22d-3f177bccba1b"
      },
      "execution_count": 20,
      "outputs": [
        {
          "output_type": "stream",
          "name": "stdout",
          "text": [
            "Model: \"sequential_1\"\n",
            "_________________________________________________________________\n",
            " Layer (type)                Output Shape              Param #   \n",
            "=================================================================\n",
            " dense_3 (Dense)             (None, 512)               401920    \n",
            "                                                                 \n",
            " dense_4 (Dense)             (None, 512)               262656    \n",
            "                                                                 \n",
            " dense_5 (Dense)             (None, 10)                5130      \n",
            "                                                                 \n",
            "=================================================================\n",
            "Total params: 669,706\n",
            "Trainable params: 669,706\n",
            "Non-trainable params: 0\n",
            "_________________________________________________________________\n"
          ]
        }
      ]
    },
    {
      "cell_type": "code",
      "source": [
        "x_train_1=x_train.reshape((60000,28*28))\n",
        "x_train_1=x_train_1.astype('float32')/255\n",
        "x_test_1=x_test.reshape(10000,28*28)\n",
        "x_test_1=x_test_1.astype('float32')/255\n",
        "print(x_test.shape)\n",
        "print(x_train.shape)"
      ],
      "metadata": {
        "colab": {
          "base_uri": "https://localhost:8080/"
        },
        "id": "iJexjiqpMp1k",
        "outputId": "6ba44bb7-4ca9-4c59-e78a-f3cf39cdadc4"
      },
      "execution_count": 21,
      "outputs": [
        {
          "output_type": "stream",
          "name": "stdout",
          "text": [
            "(10000, 28, 28)\n",
            "(60000, 28, 28)\n"
          ]
        }
      ]
    },
    {
      "cell_type": "code",
      "source": [
        "from keras.utils import to_categorical\n",
        "y_train_1=to_categorical(y_train)\n",
        "y_test_1=to_categorical(y_test)\n",
        "print(y_test_1.shape)\n",
        "print(y_train_1.shape)"
      ],
      "metadata": {
        "colab": {
          "base_uri": "https://localhost:8080/"
        },
        "id": "BlR8VKu3MwjM",
        "outputId": "f3671db1-b85b-4efc-bce9-ac0d6f3cef71"
      },
      "execution_count": 22,
      "outputs": [
        {
          "output_type": "stream",
          "name": "stdout",
          "text": [
            "(10000, 10)\n",
            "(60000, 10)\n"
          ]
        }
      ]
    },
    {
      "cell_type": "code",
      "source": [
        "# Đào tạo mô hình với kích thước lô = 128, số lần lặp lại =100\n",
        "import keras.metrics as metrics \n",
        "model.compile(optimizer='rmsprop',loss='categorical_crossentropy',metrics=['accuracy'])\n",
        "model.fit(x_train_1,y_train_1,epochs=100,batch_size=128)"
      ],
      "metadata": {
        "colab": {
          "base_uri": "https://localhost:8080/"
        },
        "id": "9BxWzaXNM16M",
        "outputId": "05d15059-62d4-46fb-f6d8-dce7f1964535"
      },
      "execution_count": 23,
      "outputs": [
        {
          "output_type": "stream",
          "name": "stdout",
          "text": [
            "Epoch 1/100\n",
            "469/469 [==============================] - 10s 20ms/step - loss: 0.5449 - accuracy: 0.8007\n",
            "Epoch 2/100\n",
            "469/469 [==============================] - 8s 18ms/step - loss: 0.3744 - accuracy: 0.8616\n",
            "Epoch 3/100\n",
            "469/469 [==============================] - 11s 23ms/step - loss: 0.3329 - accuracy: 0.8755\n",
            "Epoch 4/100\n",
            "469/469 [==============================] - 9s 20ms/step - loss: 0.3051 - accuracy: 0.8861\n",
            "Epoch 5/100\n",
            "469/469 [==============================] - 9s 20ms/step - loss: 0.2856 - accuracy: 0.8930\n",
            "Epoch 6/100\n",
            "469/469 [==============================] - 9s 20ms/step - loss: 0.2671 - accuracy: 0.8985\n",
            "Epoch 7/100\n",
            "469/469 [==============================] - 9s 20ms/step - loss: 0.2553 - accuracy: 0.9033\n",
            "Epoch 8/100\n",
            "469/469 [==============================] - 8s 18ms/step - loss: 0.2450 - accuracy: 0.9070\n",
            "Epoch 9/100\n",
            "469/469 [==============================] - 10s 20ms/step - loss: 0.2334 - accuracy: 0.9124\n",
            "Epoch 10/100\n",
            "469/469 [==============================] - 9s 20ms/step - loss: 0.2270 - accuracy: 0.9142\n",
            "Epoch 11/100\n",
            "469/469 [==============================] - 8s 18ms/step - loss: 0.2160 - accuracy: 0.9181\n",
            "Epoch 12/100\n",
            "469/469 [==============================] - 9s 19ms/step - loss: 0.2118 - accuracy: 0.9204\n",
            "Epoch 13/100\n",
            "469/469 [==============================] - 9s 20ms/step - loss: 0.2049 - accuracy: 0.9233\n",
            "Epoch 14/100\n",
            "469/469 [==============================] - 9s 19ms/step - loss: 0.1990 - accuracy: 0.9239\n",
            "Epoch 15/100\n",
            "469/469 [==============================] - 9s 19ms/step - loss: 0.1938 - accuracy: 0.9271\n",
            "Epoch 16/100\n",
            "469/469 [==============================] - 9s 20ms/step - loss: 0.1879 - accuracy: 0.9290\n",
            "Epoch 17/100\n",
            "469/469 [==============================] - 9s 20ms/step - loss: 0.1825 - accuracy: 0.9310\n",
            "Epoch 18/100\n",
            "469/469 [==============================] - 8s 18ms/step - loss: 0.1802 - accuracy: 0.9320\n",
            "Epoch 19/100\n",
            "469/469 [==============================] - 9s 20ms/step - loss: 0.1768 - accuracy: 0.9330\n",
            "Epoch 20/100\n",
            "469/469 [==============================] - 9s 20ms/step - loss: 0.1723 - accuracy: 0.9354\n",
            "Epoch 21/100\n",
            "469/469 [==============================] - 8s 17ms/step - loss: 0.1690 - accuracy: 0.9363\n",
            "Epoch 22/100\n",
            "469/469 [==============================] - 9s 20ms/step - loss: 0.1638 - accuracy: 0.9384\n",
            "Epoch 23/100\n",
            "469/469 [==============================] - 9s 20ms/step - loss: 0.1646 - accuracy: 0.9388\n",
            "Epoch 24/100\n",
            "469/469 [==============================] - 8s 17ms/step - loss: 0.1597 - accuracy: 0.9411\n",
            "Epoch 25/100\n",
            "469/469 [==============================] - 9s 20ms/step - loss: 0.1589 - accuracy: 0.9409\n",
            "Epoch 26/100\n",
            "469/469 [==============================] - 9s 20ms/step - loss: 0.1542 - accuracy: 0.9424\n",
            "Epoch 27/100\n",
            "469/469 [==============================] - 8s 17ms/step - loss: 0.1500 - accuracy: 0.9439\n",
            "Epoch 28/100\n",
            "469/469 [==============================] - 9s 20ms/step - loss: 0.1477 - accuracy: 0.9453\n",
            "Epoch 29/100\n",
            "469/469 [==============================] - 9s 20ms/step - loss: 0.1439 - accuracy: 0.9473\n",
            "Epoch 30/100\n",
            "469/469 [==============================] - 8s 17ms/step - loss: 0.1423 - accuracy: 0.9471\n",
            "Epoch 31/100\n",
            "469/469 [==============================] - 11s 23ms/step - loss: 0.1392 - accuracy: 0.9479\n",
            "Epoch 32/100\n",
            "469/469 [==============================] - 9s 19ms/step - loss: 0.1392 - accuracy: 0.9480\n",
            "Epoch 33/100\n",
            "469/469 [==============================] - 8s 17ms/step - loss: 0.1362 - accuracy: 0.9502\n",
            "Epoch 34/100\n",
            "469/469 [==============================] - 9s 19ms/step - loss: 0.1359 - accuracy: 0.9505\n",
            "Epoch 35/100\n",
            "469/469 [==============================] - 9s 19ms/step - loss: 0.1329 - accuracy: 0.9527\n",
            "Epoch 36/100\n",
            "469/469 [==============================] - 8s 17ms/step - loss: 0.1301 - accuracy: 0.9526\n",
            "Epoch 37/100\n",
            "469/469 [==============================] - 9s 20ms/step - loss: 0.1277 - accuracy: 0.9526\n",
            "Epoch 38/100\n",
            "469/469 [==============================] - 9s 19ms/step - loss: 0.1263 - accuracy: 0.9549\n",
            "Epoch 39/100\n",
            "469/469 [==============================] - 8s 18ms/step - loss: 0.1267 - accuracy: 0.9540\n",
            "Epoch 40/100\n",
            "469/469 [==============================] - 9s 20ms/step - loss: 0.1227 - accuracy: 0.9555\n",
            "Epoch 41/100\n",
            "469/469 [==============================] - 9s 19ms/step - loss: 0.1235 - accuracy: 0.9562\n",
            "Epoch 42/100\n",
            "469/469 [==============================] - 8s 18ms/step - loss: 0.1189 - accuracy: 0.9576\n",
            "Epoch 43/100\n",
            "469/469 [==============================] - 9s 20ms/step - loss: 0.1232 - accuracy: 0.9558\n",
            "Epoch 44/100\n",
            "469/469 [==============================] - 9s 20ms/step - loss: 0.1179 - accuracy: 0.9575\n",
            "Epoch 45/100\n",
            "469/469 [==============================] - 8s 18ms/step - loss: 0.1136 - accuracy: 0.9590\n",
            "Epoch 46/100\n",
            "469/469 [==============================] - 9s 20ms/step - loss: 0.1132 - accuracy: 0.9600\n",
            "Epoch 47/100\n",
            "469/469 [==============================] - 9s 20ms/step - loss: 0.1130 - accuracy: 0.9595\n",
            "Epoch 48/100\n",
            "469/469 [==============================] - 8s 17ms/step - loss: 0.1135 - accuracy: 0.9598\n",
            "Epoch 49/100\n",
            "469/469 [==============================] - 9s 20ms/step - loss: 0.1117 - accuracy: 0.9606\n",
            "Epoch 50/100\n",
            "469/469 [==============================] - 9s 20ms/step - loss: 0.1091 - accuracy: 0.9605\n",
            "Epoch 51/100\n",
            "469/469 [==============================] - 8s 17ms/step - loss: 0.1092 - accuracy: 0.9604\n",
            "Epoch 52/100\n",
            "469/469 [==============================] - 9s 20ms/step - loss: 0.1090 - accuracy: 0.9620\n",
            "Epoch 53/100\n",
            "469/469 [==============================] - 9s 20ms/step - loss: 0.1060 - accuracy: 0.9630\n",
            "Epoch 54/100\n",
            "469/469 [==============================] - 8s 17ms/step - loss: 0.1059 - accuracy: 0.9640\n",
            "Epoch 55/100\n",
            "469/469 [==============================] - 9s 20ms/step - loss: 0.1041 - accuracy: 0.9645\n",
            "Epoch 56/100\n",
            "469/469 [==============================] - 9s 20ms/step - loss: 0.1064 - accuracy: 0.9642\n",
            "Epoch 57/100\n",
            "469/469 [==============================] - 8s 17ms/step - loss: 0.1042 - accuracy: 0.9646\n",
            "Epoch 58/100\n",
            "469/469 [==============================] - 9s 19ms/step - loss: 0.1019 - accuracy: 0.9651\n",
            "Epoch 59/100\n",
            "469/469 [==============================] - 11s 22ms/step - loss: 0.0986 - accuracy: 0.9654\n",
            "Epoch 60/100\n",
            "469/469 [==============================] - 9s 19ms/step - loss: 0.0996 - accuracy: 0.9670\n",
            "Epoch 61/100\n",
            "469/469 [==============================] - 9s 18ms/step - loss: 0.0984 - accuracy: 0.9667\n",
            "Epoch 62/100\n",
            "469/469 [==============================] - 9s 20ms/step - loss: 0.0968 - accuracy: 0.9674\n",
            "Epoch 63/100\n",
            "469/469 [==============================] - 9s 19ms/step - loss: 0.0947 - accuracy: 0.9672\n",
            "Epoch 64/100\n",
            "469/469 [==============================] - 8s 18ms/step - loss: 0.0923 - accuracy: 0.9687\n",
            "Epoch 65/100\n",
            "469/469 [==============================] - 9s 20ms/step - loss: 0.0952 - accuracy: 0.9678\n",
            "Epoch 66/100\n",
            "469/469 [==============================] - 9s 18ms/step - loss: 0.0949 - accuracy: 0.9686\n",
            "Epoch 67/100\n",
            "469/469 [==============================] - 9s 18ms/step - loss: 0.0887 - accuracy: 0.9712\n",
            "Epoch 68/100\n",
            "469/469 [==============================] - 9s 20ms/step - loss: 0.0920 - accuracy: 0.9689\n",
            "Epoch 69/100\n",
            "469/469 [==============================] - 9s 19ms/step - loss: 0.0901 - accuracy: 0.9701\n",
            "Epoch 70/100\n",
            "469/469 [==============================] - 8s 18ms/step - loss: 0.0923 - accuracy: 0.9700\n",
            "Epoch 71/100\n",
            "469/469 [==============================] - 9s 20ms/step - loss: 0.0884 - accuracy: 0.9700\n",
            "Epoch 72/100\n",
            "469/469 [==============================] - 9s 19ms/step - loss: 0.0878 - accuracy: 0.9710\n",
            "Epoch 73/100\n",
            "469/469 [==============================] - 8s 18ms/step - loss: 0.0882 - accuracy: 0.9712\n",
            "Epoch 74/100\n",
            "469/469 [==============================] - 9s 20ms/step - loss: 0.0904 - accuracy: 0.9713\n",
            "Epoch 75/100\n",
            "469/469 [==============================] - 9s 20ms/step - loss: 0.0911 - accuracy: 0.9707\n",
            "Epoch 76/100\n",
            "469/469 [==============================] - 9s 19ms/step - loss: 0.0912 - accuracy: 0.9718\n",
            "Epoch 77/100\n",
            "469/469 [==============================] - 10s 22ms/step - loss: 0.0850 - accuracy: 0.9723\n",
            "Epoch 78/100\n",
            "469/469 [==============================] - 10s 22ms/step - loss: 0.0853 - accuracy: 0.9729\n",
            "Epoch 79/100\n",
            "469/469 [==============================] - 10s 22ms/step - loss: 0.0799 - accuracy: 0.9734\n",
            "Epoch 80/100\n",
            "469/469 [==============================] - 9s 20ms/step - loss: 0.0827 - accuracy: 0.9740\n",
            "Epoch 81/100\n",
            "469/469 [==============================] - 10s 21ms/step - loss: 0.0829 - accuracy: 0.9730\n",
            "Epoch 82/100\n",
            "469/469 [==============================] - 10s 22ms/step - loss: 0.0769 - accuracy: 0.9742\n",
            "Epoch 83/100\n",
            "469/469 [==============================] - 9s 20ms/step - loss: 0.0787 - accuracy: 0.9755\n",
            "Epoch 84/100\n",
            "469/469 [==============================] - 9s 19ms/step - loss: 0.0818 - accuracy: 0.9745\n",
            "Epoch 85/100\n",
            "469/469 [==============================] - 10s 21ms/step - loss: 0.0792 - accuracy: 0.9754\n",
            "Epoch 86/100\n",
            "469/469 [==============================] - 10s 22ms/step - loss: 0.0802 - accuracy: 0.9757\n",
            "Epoch 87/100\n",
            "469/469 [==============================] - 8s 17ms/step - loss: 0.0782 - accuracy: 0.9749\n",
            "Epoch 88/100\n",
            "469/469 [==============================] - 9s 20ms/step - loss: 0.0825 - accuracy: 0.9745\n",
            "Epoch 89/100\n",
            "469/469 [==============================] - 9s 19ms/step - loss: 0.0803 - accuracy: 0.9762\n",
            "Epoch 90/100\n",
            "469/469 [==============================] - 8s 17ms/step - loss: 0.0804 - accuracy: 0.9748\n",
            "Epoch 91/100\n",
            "469/469 [==============================] - 9s 19ms/step - loss: 0.0753 - accuracy: 0.9767\n",
            "Epoch 92/100\n",
            "469/469 [==============================] - 9s 20ms/step - loss: 0.0773 - accuracy: 0.9763\n",
            "Epoch 93/100\n",
            "469/469 [==============================] - 11s 23ms/step - loss: 0.0763 - accuracy: 0.9780\n",
            "Epoch 94/100\n",
            "469/469 [==============================] - 9s 20ms/step - loss: 0.0748 - accuracy: 0.9771\n",
            "Epoch 95/100\n",
            "469/469 [==============================] - 9s 20ms/step - loss: 0.0743 - accuracy: 0.9783\n",
            "Epoch 96/100\n",
            "469/469 [==============================] - 9s 20ms/step - loss: 0.0763 - accuracy: 0.9773\n",
            "Epoch 97/100\n",
            "469/469 [==============================] - 9s 19ms/step - loss: 0.0721 - accuracy: 0.9787\n",
            "Epoch 98/100\n",
            "469/469 [==============================] - 9s 18ms/step - loss: 0.0691 - accuracy: 0.9790\n",
            "Epoch 99/100\n",
            "469/469 [==============================] - 9s 19ms/step - loss: 0.0721 - accuracy: 0.9785\n",
            "Epoch 100/100\n",
            "469/469 [==============================] - 9s 19ms/step - loss: 0.0685 - accuracy: 0.9784\n"
          ]
        },
        {
          "output_type": "execute_result",
          "data": {
            "text/plain": [
              "<keras.callbacks.History at 0x7f412a863c40>"
            ]
          },
          "metadata": {},
          "execution_count": 23
        }
      ]
    },
    {
      "cell_type": "code",
      "source": [
        "model.save('ABC1.h5')\n",
        "from keras.models import load_model\n",
        "model2=load_model('ABC1.h5')"
      ],
      "metadata": {
        "id": "91CYDJv7NHET"
      },
      "execution_count": 24,
      "outputs": []
    },
    {
      "cell_type": "code",
      "source": [
        "#đánh giá các mô hình trên dữ liệu thử nghiệm thông qua evaluate() :\n",
        "test_loss,test_ace=model2.evaluate(x_test_1,y_test_1)\n",
        "print('Test loss:',test_loss)\n",
        "print('Test accuracy : ',test_ace)"
      ],
      "metadata": {
        "colab": {
          "base_uri": "https://localhost:8080/"
        },
        "id": "T6jpXRAoQsrm",
        "outputId": "6d65ab0b-819e-41d2-b73f-0a5ffbf5776c"
      },
      "execution_count": 25,
      "outputs": [
        {
          "output_type": "stream",
          "name": "stdout",
          "text": [
            "313/313 [==============================] - 1s 4ms/step - loss: 1.3673 - accuracy: 0.8888\n",
            "Test loss: 1.3672764301300049\n",
            "Test accuracy :  0.8888000249862671\n"
          ]
        }
      ]
    },
    {
      "cell_type": "code",
      "source": [
        "import matplotlib.pyplot as plt\n",
        "from keras.utils import load_img\n",
        "from keras.utils import img_to_array\n",
        "import numpy as np\n",
        "img=load_img('coat.webp',target_size=(28,28),grayscale=True)\n",
        "plt.imshow(img)\n",
        "plt.show()\n",
        "img=img_to_array(img)\n",
        "print(img.shape)\n",
        "img=img.reshape(1,28*28)\n",
        "img=img.astype('float32')\n",
        "img=img/255\n",
        "a=int(np.argmax(model2.predict(img),axis=1))\n",
        "print('ket qua nhan dien:',a)\n",
        "print(class_name[a])"
      ],
      "metadata": {
        "colab": {
          "base_uri": "https://localhost:8080/",
          "height": 499
        },
        "id": "__YTQnDcQtPT",
        "outputId": "4fd43ef6-b9d1-4589-eaa8-8eeb1cf1bc8c"
      },
      "execution_count": 27,
      "outputs": [
        {
          "output_type": "display_data",
          "data": {
            "text/plain": [
              "<Figure size 640x480 with 1 Axes>"
            ],
            "image/png": "[encoded data removed]"
          },
          "metadata": {}
        },
        {
          "output_type": "stream",
          "name": "stdout",
          "text": [
            "(28, 28, 1)\n",
            "1/1 [==============================] - 0s 59ms/step\n",
            "ket qua nhan dien: 8\n",
            "Bag\n"
          ]
        }
      ]
    },
    {
      "cell_type": "code",
      "source": [
        " "
      ],
      "metadata": {
        "id": "9YXBhVr-TF7Q"
      },
      "execution_count": null,
      "outputs": []
    }
  ]
}